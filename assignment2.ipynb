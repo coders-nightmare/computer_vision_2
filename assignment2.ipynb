{
 "cells": [
  {
   "cell_type": "code",
   "execution_count": 1,
   "id": "e8ed1ee6",
   "metadata": {},
   "outputs": [],
   "source": [
    "import numpy as np"
   ]
  },
  {
   "cell_type": "code",
   "execution_count": 3,
   "id": "2688156d",
   "metadata": {
    "scrolled": true
   },
   "outputs": [
    {
     "data": {
      "text/plain": [
       "array([[ 0,  3,  9,  6,  5,  5,  5,  9,  5,  0],\n",
       "       [ 4,  5,  2,  8,  9,  9,  6,  3,  0,  7],\n",
       "       [10, 10,  2,  0,  3,  7,  5,  7,  4,  3],\n",
       "       [ 8,  9,  3,  1, 10,  3,  2,  1,  3,  5],\n",
       "       [ 9,  6,  3,  3,  7,  6,  9,  2,  5,  6],\n",
       "       [ 0,  6,  3,  1,  9,  3,  4,  0,  9,  4],\n",
       "       [ 1,  5,  3,  6,  6,  2,  9, 10,  4,  1],\n",
       "       [ 3,  4,  0,  6,  1,  1,  4, 10,  3,  4],\n",
       "       [ 0,  0, 10, 10,  0, 10,  0,  5,  3,  5],\n",
       "       [ 7,  9,  8,  0,  4,  1,  6,  3,  5,  8]])"
      ]
     },
     "execution_count": 3,
     "metadata": {},
     "output_type": "execute_result"
    }
   ],
   "source": [
    "grid = np.random.randint(0, 11, (10, 10))\n",
    "grid"
   ]
  },
  {
   "cell_type": "code",
   "execution_count": 11,
   "id": "e82c7c9c",
   "metadata": {},
   "outputs": [],
   "source": [
    "import cv2\n",
    "b"
   ]
  },
  {
   "cell_type": "code",
   "execution_count": 12,
   "id": "34108cf5",
   "metadata": {
    "scrolled": true
   },
   "outputs": [
    {
     "data": {
      "text/plain": [
       "array([[4, 4, 5, 6, 8, 7, 6, 4, 4, 3],\n",
       "       [6, 5, 5, 5, 6, 6, 6, 5, 4, 3],\n",
       "       [8, 6, 4, 4, 6, 6, 5, 3, 4, 3],\n",
       "       [9, 7, 4, 4, 4, 6, 5, 4, 4, 4],\n",
       "       [7, 5, 4, 4, 5, 6, 3, 4, 4, 5],\n",
       "       [5, 4, 4, 5, 5, 6, 5, 6, 5, 5],\n",
       "       [4, 3, 4, 4, 4, 4, 5, 6, 5, 5],\n",
       "       [2, 3, 5, 5, 5, 4, 6, 5, 5, 3],\n",
       "       [4, 5, 5, 4, 4, 3, 4, 4, 5, 4],\n",
       "       [3, 5, 6, 6, 5, 3, 4, 3, 5, 4]], dtype=uint8)"
      ]
     },
     "execution_count": 12,
     "metadata": {},
     "output_type": "execute_result"
    }
   ],
   "source": [
    "filtered_grid"
   ]
  },
  {
   "cell_type": "code",
   "execution_count": 13,
   "id": "48efcb2e",
   "metadata": {},
   "outputs": [
    {
     "data": {
      "text/plain": [
       "(10, 10)"
      ]
     },
     "execution_count": 13,
     "metadata": {},
     "output_type": "execute_result"
    }
   ],
   "source": [
    "filtered_grid.shape"
   ]
  },
  {
   "cell_type": "code",
   "execution_count": 14,
   "id": "ca825dd6",
   "metadata": {},
   "outputs": [],
   "source": [
    "import matplotlib.pyplot as plt"
   ]
  },
  {
   "cell_type": "code",
   "execution_count": 15,
   "id": "9da98ee5",
   "metadata": {
    "scrolled": true
   },
   "outputs": [
    {
     "data": {
      "text/plain": [
       "[]"
      ]
     },
     "execution_count": 15,
     "metadata": {},
     "output_type": "execute_result"
    },
    {
     "data": {
      "image/png": "[encoded data removed]",
      "text/plain": [
       "<Figure size 640x480 with 1 Axes>"
      ]
     },
     "metadata": {},
     "output_type": "display_data"
    }
   ],
   "source": [
    "plt.imshow(grid)\n",
    "plt.plot()"
   ]
  },
  {
   "cell_type": "code",
   "execution_count": 19,
   "id": "2c9e9fb4",
   "metadata": {},
   "outputs": [
    {
     "data": {
      "text/plain": [
       "array([4, 4, 5, 6, 8, 7, 6, 4, 4, 3], dtype=uint8)"
      ]
     },
     "execution_count": 19,
     "metadata": {},
     "output_type": "execute_result"
    }
   ],
   "source": []
  },
  {
   "cell_type": "code",
   "execution_count": 23,
   "id": "f7fdda1e",
   "metadata": {
    "scrolled": true
   },
   "outputs": [
    {
     "ename": "ValueError",
     "evalue": "The truth value of an array with more than one element is ambiguous. Use a.any() or a.all()",
     "output_type": "error",
     "traceback": [
      "\u001b[1;31m---------------------------------------------------------------------------\u001b[0m",
      "\u001b[1;31mValueError\u001b[0m                                Traceback (most recent call last)",
      "Cell \u001b[1;32mIn[23], line 1\u001b[0m\n\u001b[1;32m----> 1\u001b[0m \u001b[43mplt\u001b[49m\u001b[38;5;241;43m.\u001b[39;49m\u001b[43mshow\u001b[49m\u001b[43m(\u001b[49m\u001b[43mfiltered_grid\u001b[49m\u001b[38;5;241;43m.\u001b[39;49m\u001b[43mastype\u001b[49m\u001b[43m(\u001b[49m\u001b[43mnp\u001b[49m\u001b[38;5;241;43m.\u001b[39;49m\u001b[43muint8\u001b[49m\u001b[43m)\u001b[49m\u001b[43m)\u001b[49m\n\u001b[0;32m      2\u001b[0m plt\u001b[38;5;241m.\u001b[39mplot()\n",
      "File \u001b[1;32m~\\AppData\\Local\\Programs\\Python\\Python311\\Lib\\site-packages\\matplotlib\\pyplot.py:446\u001b[0m, in \u001b[0;36mshow\u001b[1;34m(*args, **kwargs)\u001b[0m\n\u001b[0;32m    402\u001b[0m \u001b[38;5;250m\u001b[39m\u001b[38;5;124;03m\"\"\"\u001b[39;00m\n\u001b[0;32m    403\u001b[0m \u001b[38;5;124;03mDisplay all open figures.\u001b[39;00m\n\u001b[0;32m    404\u001b[0m \n\u001b[1;32m   (...)\u001b[0m\n\u001b[0;32m    443\u001b[0m \u001b[38;5;124;03mexplicitly there.\u001b[39;00m\n\u001b[0;32m    444\u001b[0m \u001b[38;5;124;03m\"\"\"\u001b[39;00m\n\u001b[0;32m    445\u001b[0m _warn_if_gui_out_of_main_thread()\n\u001b[1;32m--> 446\u001b[0m \u001b[38;5;28;01mreturn\u001b[39;00m \u001b[43m_get_backend_mod\u001b[49m\u001b[43m(\u001b[49m\u001b[43m)\u001b[49m\u001b[38;5;241;43m.\u001b[39;49m\u001b[43mshow\u001b[49m\u001b[43m(\u001b[49m\u001b[38;5;241;43m*\u001b[39;49m\u001b[43margs\u001b[49m\u001b[43m,\u001b[49m\u001b[43m \u001b[49m\u001b[38;5;241;43m*\u001b[39;49m\u001b[38;5;241;43m*\u001b[39;49m\u001b[43mkwargs\u001b[49m\u001b[43m)\u001b[49m\n",
      "File \u001b[1;32m~\\AppData\\Local\\Programs\\Python\\Python311\\Lib\\site-packages\\matplotlib_inline\\backend_inline.py:98\u001b[0m, in \u001b[0;36mshow\u001b[1;34m(close, block)\u001b[0m\n\u001b[0;32m     95\u001b[0m show\u001b[38;5;241m.\u001b[39m_to_draw \u001b[38;5;241m=\u001b[39m []\n\u001b[0;32m     96\u001b[0m \u001b[38;5;66;03m# only call close('all') if any to close\u001b[39;00m\n\u001b[0;32m     97\u001b[0m \u001b[38;5;66;03m# close triggers gc.collect, which can be slow\u001b[39;00m\n\u001b[1;32m---> 98\u001b[0m \u001b[38;5;28;01mif\u001b[39;00m close \u001b[38;5;129;01mand\u001b[39;00m Gcf\u001b[38;5;241m.\u001b[39mget_all_fig_managers():\n\u001b[0;32m     99\u001b[0m     matplotlib\u001b[38;5;241m.\u001b[39mpyplot\u001b[38;5;241m.\u001b[39mclose(\u001b[38;5;124m'\u001b[39m\u001b[38;5;124mall\u001b[39m\u001b[38;5;124m'\u001b[39m)\n",
      "\u001b[1;31mValueError\u001b[0m: The truth value of an array with more than one element is ambiguous. Use a.any() or a.all()"
     ]
    }
   ],
   "source": [
    "plt.show(filtered_grid.astype(np.uint8))\n",
    "plt.plot()"
   ]
  },
  {
   "cell_type": "code",
   "execution_count": 26,
   "id": "9b89ff2f",
   "metadata": {},
   "outputs": [
    {
     "ename": "ImportError",
     "evalue": "cannot import name 'medfilt2' from 'scipy.signal' (C:\\Users\\RITIK\\AppData\\Local\\Programs\\Python\\Python311\\Lib\\site-packages\\scipy\\signal\\__init__.py)",
     "output_type": "error",
     "traceback": [
      "\u001b[1;31m---------------------------------------------------------------------------\u001b[0m",
      "\u001b[1;31mImportError\u001b[0m                               Traceback (most recent call last)",
      "Cell \u001b[1;32mIn[26], line 1\u001b[0m\n\u001b[1;32m----> 1\u001b[0m \u001b[38;5;28;01mfrom\u001b[39;00m \u001b[38;5;21;01mscipy\u001b[39;00m\u001b[38;5;21;01m.\u001b[39;00m\u001b[38;5;21;01msignal\u001b[39;00m \u001b[38;5;28;01mimport\u001b[39;00m medfilt2\n\u001b[0;32m      2\u001b[0m median_filtered_grid \u001b[38;5;241m=\u001b[39m medfilt2(grid, kernel_size\u001b[38;5;241m=\u001b[39m\u001b[38;5;241m3\u001b[39m)\n",
      "\u001b[1;31mImportError\u001b[0m: cannot import name 'medfilt2' from 'scipy.signal' (C:\\Users\\RITIK\\AppData\\Local\\Programs\\Python\\Python311\\Lib\\site-packages\\scipy\\signal\\__init__.py)"
     ]
    }
   ],
   "source": [
    "from scipy.signal import medfilt2\n",
    "median_filtered_grid = medfilt2(grid, kernel_size=3)"
   ]
  },
  {
   "cell_type": "code",
   "execution_count": 28,
   "id": "b24145f1",
   "metadata": {
    "scrolled": true
   },
   "outputs": [
    {
     "data": {
      "text/plain": [
       "array([[5, 5, 7, 4, 3, 4, 4, 4, 4, 7],\n",
       "       [5, 7, 7, 4, 3, 4, 4, 4, 4, 4],\n",
       "       [5, 6, 6, 3, 2, 3, 6, 7, 7, 7],\n",
       "       [5, 5, 4, 2, 2, 2, 6, 7, 7, 7],\n",
       "       [5, 2, 4, 2, 2, 2, 6, 7, 7, 7],\n",
       "       [5, 2, 2, 2, 4, 4, 5, 6, 7, 7],\n",
       "       [5, 4, 4, 2, 1, 1, 5, 5, 7, 7],\n",
       "       [5, 4, 4, 1, 1, 1, 4, 5, 5, 3],\n",
       "       [5, 7, 6, 6, 5, 4, 4, 7, 5, 3],\n",
       "       [9, 9, 9, 6, 6, 8, 7, 8, 7, 5]], dtype=uint8)"
      ]
     },
     "execution_count": 28,
     "metadata": {},
     "output_type": "execute_result"
    }
   ],
   "source": [
    "grid = np.random.randint(0, 11, (10, 10), dtype=np.uint8)\n",
    "median_filtered_grid = cv2.medianBlur(grid, 3)\n",
    "median_filtered_grid"
   ]
  },
  {
   "cell_type": "code",
   "execution_count": 29,
   "id": "c0b673c1",
   "metadata": {
    "scrolled": true
   },
   "outputs": [
    {
     "data": {
      "text/plain": [
       "array([[ 5,  5,  8,  0,  4,  3,  4,  1,  2,  7],\n",
       "       [ 1,  7,  8,  8,  3,  4,  7,  5,  4,  7],\n",
       "       [ 7,  5,  8,  1,  1,  2,  7,  9,  2,  3],\n",
       "       [ 5,  6,  2,  4,  1,  2,  6,  8,  8,  7],\n",
       "       [ 2,  0,  1, 10,  4,  2,  7,  1,  3,  7],\n",
       "       [ 5,  8,  2,  9,  1,  0,  6,  7,  7,  7],\n",
       "       [ 5,  1,  1,  4,  1,  9,  5,  5,  8,  9],\n",
       "       [ 3,  4,  7,  0,  8,  0,  1,  0,  3,  3],\n",
       "       [ 5, 10,  0,  5,  1,  1,  4,  7, 10,  3],\n",
       "       [ 9,  9,  9,  6,  9,  9,  8,  7, 10,  5]], dtype=uint8)"
      ]
     },
     "execution_count": 29,
     "metadata": {},
     "output_type": "execute_result"
    }
   ],
   "source": [
    "grid"
   ]
  },
  {
   "cell_type": "code",
   "execution_count": 42,
   "id": "839791a5",
   "metadata": {},
   "outputs": [],
   "source": [
    "kernel = np.ones((3, 3), np.float32) / 9\n",
    "filtered_grid = cv2.filter2D(grid.astype(np.float32), -1, kernel).astype(np.uint8)"
   ]
  },
  {
   "cell_type": "code",
   "execution_count": 43,
   "id": "60e72766",
   "metadata": {
    "scrolled": true
   },
   "outputs": [
    {
     "data": {
      "text/plain": [
       "array([[5, 5, 6, 5, 4, 4, 4, 4, 4, 4],\n",
       "       [5, 5, 5, 4, 2, 3, 4, 4, 4, 3],\n",
       "       [5, 5, 5, 4, 2, 3, 5, 6, 5, 5],\n",
       "       [4, 4, 4, 3, 3, 3, 4, 5, 5, 4],\n",
       "       [4, 3, 4, 3, 3, 3, 4, 5, 6, 6],\n",
       "       [3, 2, 4, 3, 4, 3, 4, 5, 5, 6],\n",
       "       [4, 3, 4, 3, 3, 3, 3, 4, 5, 6],\n",
       "       [4, 4, 3, 3, 3, 3, 3, 4, 5, 6],\n",
       "       [7, 6, 5, 5, 4, 4, 4, 5, 5, 6],\n",
       "       [8, 6, 6, 4, 4, 4, 5, 7, 6, 7]], dtype=uint8)"
      ]
     },
     "execution_count": 43,
     "metadata": {},
     "output_type": "execute_result"
    }
   ],
   "source": [
    "filtered_grid"
   ]
  },
  {
   "cell_type": "code",
   "execution_count": 39,
   "id": "0d73e7bf",
   "metadata": {},
   "outputs": [
    {
     "data": {
      "text/plain": [
       "array([[4, 5, 6, 5, 3, 4, 4, 3, 4, 4],\n",
       "       [4, 5, 6, 4, 3, 3, 5, 4, 4, 4],\n",
       "       [5, 5, 5, 3, 2, 3, 5, 6, 5, 4],\n",
       "       [4, 4, 3, 3, 2, 3, 5, 6, 5, 5],\n",
       "       [3, 3, 3, 4, 3, 3, 4, 5, 5, 6],\n",
       "       [4, 3, 3, 4, 3, 3, 4, 5, 6, 6],\n",
       "       [4, 3, 3, 3, 3, 3, 4, 4, 5, 6],\n",
       "       [4, 4, 3, 3, 3, 3, 2, 4, 5, 5],\n",
       "       [6, 6, 5, 4, 4, 3, 4, 5, 6, 6],\n",
       "       [8, 7, 5, 4, 4, 4, 5, 7, 7, 7]], dtype=uint8)"
      ]
     },
     "execution_count": 39,
     "metadata": {},
     "output_type": "execute_result"
    }
   ],
   "source": [
    "sigma = 1.0\n",
    "\n",
    "# Apply the Gaussian filter\n",
    "kernel_size = (3, 3)\n",
    "gaussian_filtered_grid = cv2.GaussianBlur(grid.astype(np.float32), kernel_size, sigma).astype(np.uint8)\n",
    "\n",
    "gaussian_filtered_grid"
   ]
  }
 ],
 "metadata": {
  "kernelspec": {
   "display_name": "Python 3 (ipykernel)",
   "language": "python",
   "name": "python3"
  },
  "language_info": {
   "codemirror_mode": {
    "name": "ipython",
    "version": 3
   },
   "file_extension": ".py",
   "mimetype": "text/x-python",
   "name": "python",
   "nbconvert_exporter": "python",
   "pygments_lexer": "ipython3",
   "version": "3.11.4"
  }
 },
 "nbformat": 4,
 "nbformat_minor": 5
}
